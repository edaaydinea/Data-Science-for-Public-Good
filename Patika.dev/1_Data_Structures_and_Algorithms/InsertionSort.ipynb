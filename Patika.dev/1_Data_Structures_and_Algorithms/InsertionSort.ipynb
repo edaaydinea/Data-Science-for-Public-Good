{
 "cells": [
  {
   "cell_type": "markdown",
   "metadata": {},
   "source": [
    "# Insertion Sort"
   ]
  },
  {
   "cell_type": "markdown",
   "metadata": {},
   "source": [
    "## [22,27,16,2,18,6] -> Insertion Sort\n",
    "\n",
    "### 1. Yukarıda verilen dizinin sort türüne göre aşamalarını yazınız."
   ]
  },
  {
   "cell_type": "code",
   "execution_count": 14,
   "metadata": {},
   "outputs": [
    {
     "name": "stdout",
     "output_type": "stream",
     "text": [
      "[22, 27, 16, 2, 18, 6]\n",
      "[16, 22, 27, 2, 18, 6]\n",
      "[2, 16, 22, 27, 18, 6]\n",
      "[2, 16, 18, 22, 27, 6]\n",
      "[2, 6, 16, 18, 22, 27]\n"
     ]
    }
   ],
   "source": [
    "# Insertion Sort Project\n",
    "\n",
    "# Function to do insertion sort\n",
    "def insertionSort(array):\n",
    "    \n",
    "    for step in range(1, len(array)):\n",
    "        key = array[step]\n",
    "        j = step - 1\n",
    "        \n",
    "        # Compare key with each element on the left of it until an element smaller than it is found\n",
    "        # For descending order, change key<array[j] to key>array[j].        \n",
    "        while j >= 0 and key < array[j]:\n",
    "            array[j + 1] = array[j]\n",
    "            j = j - 1\n",
    "        \n",
    "        # Place key at after the element just smaller than it.\n",
    "        array[j + 1] = key\n",
    "        print(array)\n",
    "\n",
    "array = [22, 27, 16, 2, 18, 6]\n",
    "insertionSort(array)"
   ]
  },
  {
   "cell_type": "markdown",
   "metadata": {},
   "source": [
    "### 2. Big-O gösterimini yazınız.\n",
    "\n",
    ">O(n²)\n"
   ]
  },
  {
   "cell_type": "markdown",
   "metadata": {},
   "source": [
    "### 3. Time Complexity:\n",
    "\n",
    ">Best Case: O(n)\n",
    "\n",
    ">Average Case: O(n²)\n",
    "\n",
    ">Worst Case: O(n²)\n"
   ]
  },
  {
   "cell_type": "markdown",
   "metadata": {},
   "source": [
    "### 4. Dizi sıralandıktan sonra 18 sayısı hangi case kapsamına girer.\n",
    "\n",
    "> Average case"
   ]
  },
  {
   "cell_type": "markdown",
   "metadata": {},
   "source": [
    "### 5.  [7,3,5,8,2,9,4,15,6] dizisinin Insertion Sort'a göre ilk 4 adımını yazınız."
   ]
  },
  {
   "cell_type": "code",
   "execution_count": 15,
   "metadata": {},
   "outputs": [
    {
     "name": "stdout",
     "output_type": "stream",
     "text": [
      "[3, 7, 5, 8, 2, 9, 4, 15, 6]\n",
      "[3, 5, 7, 8, 2, 9, 4, 15, 6]\n",
      "[3, 5, 7, 8, 2, 9, 4, 15, 6]\n",
      "[2, 3, 5, 7, 8, 9, 4, 15, 6]\n",
      "[2, 3, 5, 7, 8, 9, 4, 15, 6]\n",
      "[2, 3, 4, 5, 7, 8, 9, 15, 6]\n",
      "[2, 3, 4, 5, 7, 8, 9, 15, 6]\n",
      "[2, 3, 4, 5, 6, 7, 8, 9, 15]\n"
     ]
    }
   ],
   "source": [
    "array2 = [7, 3, 5, 8, 2, 9, 4, 15, 6]\n",
    "insertionSort(array2)"
   ]
  }
 ],
 "metadata": {
  "interpreter": {
   "hash": "84161608248dab44bd951a4e70d238d5f1440b51aae1820d309649a0e1669024"
  },
  "kernelspec": {
   "display_name": "Python 3.9.7 64-bit ('python39': conda)",
   "language": "python",
   "name": "python3"
  },
  "language_info": {
   "codemirror_mode": {
    "name": "ipython",
    "version": 3
   },
   "file_extension": ".py",
   "mimetype": "text/x-python",
   "name": "python",
   "nbconvert_exporter": "python",
   "pygments_lexer": "ipython3",
   "version": "3.9.7"
  },
  "orig_nbformat": 4
 },
 "nbformat": 4,
 "nbformat_minor": 2
}
