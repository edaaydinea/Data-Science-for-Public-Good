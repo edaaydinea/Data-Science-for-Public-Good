{
 "cells": [
  {
   "cell_type": "markdown",
   "source": [
    "# Python Temel (Karıştırılan Konular)"
   ],
   "metadata": {}
  },
  {
   "cell_type": "markdown",
   "source": [
    "## List"
   ],
   "metadata": {}
  },
  {
   "cell_type": "markdown",
   "source": [
    "![Difference_list_tuple_set_dictionary](Difference_list_tuple_set_dictionary.jpeg)"
   ],
   "metadata": {}
  },
  {
   "cell_type": "markdown",
   "source": [
    "## Enumerate - Zip()\r\n",
    "\r\n",
    "Enumerate: Bir liste içerisindeki tuple elemanların index - eleman olarak geri dönmesi sağlar. "
   ],
   "metadata": {}
  },
  {
   "cell_type": "code",
   "execution_count": 2,
   "source": [
    "names = [\"Tyler\", \"Blake\", \"Cory\", \"Cameron\"]\r\n",
    "\r\n",
    "for index, element in enumerate(names):\r\n",
    "    print(\"Element of the {}. index : {}\".format(index, element))"
   ],
   "outputs": [
    {
     "output_type": "stream",
     "name": "stdout",
     "text": [
      "Element of the 0. index : Tyler\n",
      "Element of the 1. index : Blake\n",
      "Element of the 2. index : Cory\n",
      "Element of the 3. index : Cameron\n"
     ]
    }
   ],
   "metadata": {}
  },
  {
   "cell_type": "markdown",
   "source": [
    "Zip(): Farklı yapıların içinderki paralel iterasyon yapmamızı sağlar."
   ],
   "metadata": {}
  },
  {
   "cell_type": "code",
   "execution_count": 5,
   "source": [
    "# Her ayki karı hesaplamak\r\n",
    "satis = [3500.00, 76300.00, 67200.00]\r\n",
    "maliyet = [56700.00, 21900.00, 12100.00]\r\n",
    "\r\n",
    "\r\n",
    "for i in range(len(maliyet)):\r\n",
    "    s = satis[i]\r\n",
    "    c = maliyet[i]\r\n",
    "    \r\n",
    "    kar = s - c\r\n",
    "    print(f'Total profit: {kar}')\r\n",
    "\r\n"
   ],
   "outputs": [
    {
     "output_type": "stream",
     "name": "stdout",
     "text": [
      "Total profit: -53200.0\n",
      "Total profit: 54400.0\n",
      "Total profit: 55100.0\n"
     ]
    }
   ],
   "metadata": {}
  },
  {
   "cell_type": "code",
   "execution_count": 6,
   "source": [
    "satis = [3500.00, 76300.00, 67200.00]\r\n",
    "maliyet = [56700.00, 21900.00, 12100.00]\r\n",
    "for s, c in zip(satis, maliyet):\r\n",
    "    kar = s - c\r\n",
    "    print(f'Total profit: {kar}')"
   ],
   "outputs": [
    {
     "output_type": "stream",
     "name": "stdout",
     "text": [
      "Total profit: -53200.0\n",
      "Total profit: 54400.0\n",
      "Total profit: 55100.0\n"
     ]
    }
   ],
   "metadata": {}
  }
 ],
 "metadata": {
  "orig_nbformat": 4,
  "language_info": {
   "name": "python",
   "version": "3.9.1",
   "mimetype": "text/x-python",
   "codemirror_mode": {
    "name": "ipython",
    "version": 3
   },
   "pygments_lexer": "ipython3",
   "nbconvert_exporter": "python",
   "file_extension": ".py"
  },
  "kernelspec": {
   "name": "python3",
   "display_name": "Python 3.9.1 64-bit"
  },
  "interpreter": {
   "hash": "6ccf9007e71d991820f50469ae2e96bd73b6ae707713498a2d433b7c0be96085"
  }
 },
 "nbformat": 4,
 "nbformat_minor": 2
}