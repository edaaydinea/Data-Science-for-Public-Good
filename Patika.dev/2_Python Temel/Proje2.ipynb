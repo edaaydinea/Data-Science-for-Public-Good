{
 "cells": [
  {
   "cell_type": "markdown",
   "source": [
    "# Proje 2\r\n",
    "\r\n",
    "Verilen listenin içindeki elemanları tersine döndüren bir fonksiyon yazın. Eğer listenin içindeki elemanlar da liste içeriyorsa onların elemanlarını da tersine döndürün. Örnek olarak:\r\n",
    "\r\n",
    "input: [[1, 2], [3, 4], [5, 6, 7]]\r\n",
    "\r\n",
    "output: [[[7, 6, 5], [4, 3], [2, 1]]"
   ],
   "metadata": {}
  },
  {
   "cell_type": "code",
   "execution_count": 3,
   "source": [
    "def reverse(lst):\r\n",
    "    newList = []\r\n",
    "    for i in lst:\r\n",
    "        newList.append(i[::-1])\r\n",
    "    lst[:] = newList[::-1]\r\n",
    "\r\n",
    "    return lst"
   ],
   "outputs": [],
   "metadata": {}
  },
  {
   "cell_type": "code",
   "execution_count": 4,
   "source": [
    "lst = [[1, 2], [3, 4], [5, 6, 7]]\r\n",
    "print(reverse(lst))"
   ],
   "outputs": [
    {
     "output_type": "stream",
     "name": "stdout",
     "text": [
      "[[7, 6, 5], [4, 3], [2, 1]]\n"
     ]
    }
   ],
   "metadata": {}
  }
 ],
 "metadata": {
  "orig_nbformat": 4,
  "language_info": {
   "name": "python",
   "version": "3.9.1",
   "mimetype": "text/x-python",
   "codemirror_mode": {
    "name": "ipython",
    "version": 3
   },
   "pygments_lexer": "ipython3",
   "nbconvert_exporter": "python",
   "file_extension": ".py"
  },
  "kernelspec": {
   "name": "python3",
   "display_name": "Python 3.9.1 64-bit"
  },
  "interpreter": {
   "hash": "6ccf9007e71d991820f50469ae2e96bd73b6ae707713498a2d433b7c0be96085"
  }
 },
 "nbformat": 4,
 "nbformat_minor": 2
}