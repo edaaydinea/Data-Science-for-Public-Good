{
 "cells": [
  {
   "cell_type": "markdown",
   "source": [
    "# Proje 1\r\n",
    "\r\n",
    "Bir listeyi düzleştiren (flatten) fonksiyon yazın. Elemanları birden çok katmanlı listtlerden ([[3],2] gibi) oluşabileceği gibi, non-scalar verilerden de oluşabilir.\r\n",
    "\r\n",
    "input: [[1,'a',['cat'],2],[[[3]],'dog'],4,5]\r\n",
    "\r\n",
    "output: [1,'a','cat',2,3,'dog',4,5]"
   ],
   "metadata": {}
  },
  {
   "cell_type": "code",
   "execution_count": 6,
   "source": [
    "def flatten(lst):\r\n",
    "    newList = []\r\n",
    "    for item in lst:\r\n",
    "        if type(item) != type([]):\r\n",
    "            newList.append(item)\r\n",
    "        else:\r\n",
    "            newList.extend(flatten(item))\r\n",
    "    return newList"
   ],
   "outputs": [],
   "metadata": {}
  },
  {
   "cell_type": "code",
   "execution_count": 7,
   "source": [
    "lst = [[1,'a',['cat'],2],[[[3]],'dog'],4,5]\r\n",
    "flatten(lst)"
   ],
   "outputs": [
    {
     "output_type": "execute_result",
     "data": {
      "text/plain": [
       "[1, 'a', 'cat', 2, 3, 'dog', 4, 5]"
      ]
     },
     "metadata": {},
     "execution_count": 7
    }
   ],
   "metadata": {}
  }
 ],
 "metadata": {
  "orig_nbformat": 4,
  "language_info": {
   "name": "python",
   "version": "3.8.8",
   "mimetype": "text/x-python",
   "codemirror_mode": {
    "name": "ipython",
    "version": 3
   },
   "pygments_lexer": "ipython3",
   "nbconvert_exporter": "python",
   "file_extension": ".py"
  },
  "kernelspec": {
   "name": "python3",
   "display_name": "Python 3.8.8 64-bit ('base': conda)"
  },
  "interpreter": {
   "hash": "f64d004a0b3ef671a582eb27934ebc1be1b47e594117446eb908b7cd6e1b273a"
  }
 },
 "nbformat": 4,
 "nbformat_minor": 2
}