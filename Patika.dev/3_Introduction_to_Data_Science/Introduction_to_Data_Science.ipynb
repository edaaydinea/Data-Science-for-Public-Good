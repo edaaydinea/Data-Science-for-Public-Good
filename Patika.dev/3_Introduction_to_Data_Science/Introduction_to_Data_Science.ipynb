{
 "cells": [
  {
   "cell_type": "markdown",
   "source": [
    "# Introduction to Data Science"
   ],
   "metadata": {}
  },
  {
   "cell_type": "markdown",
   "source": [
    "## Nedir Bu Makine Öğrenmesi?\r\n",
    "\r\n",
    "Resim kategorisinde iki faklı resim kategorimiz olsun. Bunlar biri kediye ait resimle içerirken, diğer kategori kedi olmayan resimleri içersin. Bizim bilgisayardan istediğimiz, artık bu ayrımı sen yap. Biz sana bir resim verdiğimizde bunun kedi olup olmadığını bana söyle. İşte bu programlamanın farklı bir paradigmasına **Makine Öğrenmesi** diyoruz."
   ],
   "metadata": {}
  },
  {
   "cell_type": "markdown",
   "source": [
    "## Veri Bilimi nedir?\r\n",
    "\r\n",
    "Veri bilimi veriyi kullanışlı hale getirme bilimidir. Veri bilimci de bunu profesyonelliğe icare kişiye denir. Veri bilimci 3 ana başlık alına toplanabilir.\r\n",
    "1. Veri analisti: Verimizde ilginç patternler bulan, bize bir ilham bir ışık yaratmasını sağlayacak kişi\r\n",
    "2. İstatistikçi: Patternlerin ve modelimizin sonucunun hiç görmediğimiz bir veriye uygulanabilirliğini test eden kişi\r\n",
    "3. Makine Öğrenmesi Mühendisi: Modelleri üreten kişi\r\n"
   ],
   "metadata": {}
  },
  {
   "cell_type": "markdown",
   "source": [
    "## Makine Öğrenmesi Uygulama vs Pratik\r\n",
    "\r\n",
    "1. Uygulamalı Makine Öğrenmesi: Var olan inputlar modellerle belli bir sonuca gitmek ve sonuçun yeterli olması\r\n",
    "2. Makine Öğrenmesi Araştırmaları: İnovatif yenilikler peşinde gitmek. Bulunduğun alanda daha inovatif çözümler üretmek"
   ],
   "metadata": {}
  },
  {
   "cell_type": "markdown",
   "source": [
    "## Denetimli vs Denetimsiz Öğrenme\r\n",
    "\r\n",
    "1. Denetimli Öğrenme: Model içerisine verilen resimlerde o resmin neye ait olduğunu söylüyoruz. Bak bu bir kedi resmi, bu köpek resmi. Bu söyleme şeklimize etiketleme (labelling) denir.Etiketleme ile birlikte modeli besleyip ondan sonuç beklediğim duruma supervised learning (denetimli öğrenme) denir.\r\n",
    "2. Denetimsiz Öğrenme: Modeli etiketlerle beslemek yerine, modele sen bunu benzerliklerine göre grupla dedidiğimiz öğrenme şekline unsupervised learning (denetimsiz öğrenme) denir."
   ],
   "metadata": {}
  },
  {
   "cell_type": "markdown",
   "source": [
    "## Denetimsiz Öğrenme = Daha Az Denetimli Öğrenme\r\n",
    "\r\n",
    "Benzerliklerine göre 4'e ayır dediğimizde, eğer model sonucunda mantıklı bir sonuç elde ediyorsak, burada bir sorun olmadığını düşünebiliriz. Asıl sorun, model sonucunda kötü bir sonuç elde ettiğimizde, tekrar başa geri dönerek sen bunu 5'e ayır dedidiğimizde asılda kişi tarafından model denetlenmiş oluyor. Yani bir yönlendirme söz konusudur. İşte bu durumdan dolayı denetimsiz öğrenme daha  aza denetimli öğrenme olarak düşünebiliriz."
   ],
   "metadata": {}
  },
  {
   "cell_type": "markdown",
   "source": [
    "## Regression vs Classification\r\n",
    "\r\n",
    "Sürekli değişkenler -> Regression\r\n",
    "Kategorik değişkenler -> Classification\r\n",
    "\r\n",
    "**Regression ve Classification aslında farklı şeyler değillerdir. Sadece modele verdiğimiz veriler, bilgisayar tarafından sayısal output veriyor. Sadece biz kategorik değişkenlerde daha iyi anlamak için kategorize ediyoruz.**"
   ],
   "metadata": {}
  },
  {
   "cell_type": "markdown",
   "source": [
    "## Elimdeki Problem için Hangi Modeli Kullanmalıyım?\r\n",
    "\r\n",
    "Kesin bir cevap yok. Her verinin kendine ait bir modeli vardır. Veriden veriden kullanılan model değişir. "
   ],
   "metadata": {}
  },
  {
   "cell_type": "markdown",
   "source": [
    "## Temel Veri Tipleri\r\n",
    "\r\n",
    "![Data Types](Data_Types.PNG)\r\n",
    "![Nominal - Ordinal - Interval - Ratio](Nominal-Ordinal-Interval-and-Ratio-Data.jpg)\r\n",
    "\r\n",
    "\r\n",
    "1. **Nümerik Veriler**:\r\n",
    "    - **Continous**: Sürekli sayısal değişkenler (1.82 boyuna sahip gibi)    \r\n",
    "        - **Interval**: Gerçek sıfır kavramına sahip değiliz.(Hava sıcaklığını 0 derece dediğimizde, bu aslında havanın 0 derece olduğu anlamına gelmez.) Diğer bir ifade şekli ise, 5 derece hava sıacklığı 10 derece hava sıcalığının yarısı değildir. Belli bir referans noktamız yoktur.\r\n",
    "        - **Ratio**: Ama eğer hava sıcaklığını 0 Kelvin olarak alırsak, bu veri ratio olur. Çünkü 0 Kelvin'de havanın kinetik enerjisi sıfırdır ve bu şekilde belli bir referans noktamız vardır. 5 Kelvin 10 Kelvin'in yarısıdır diyebiliriz.\r\n",
    "    - **Cardinal - Discrete**: Süreksiz sayısal değişkenler (1 insan, 2 insan, 3 insan gibi)\r\n",
    "2. **Kategorik Veriler**:\r\n",
    "    - **Binary Class**: Sadece iki kategorimiz var. Kırmızı var mavi yok gibi\r\n",
    "    - **Multi Class**: 2'den fazla kategorimiz vardır.\r\n",
    "        - **Nominal**: Arabanın üzerinden 99 numara var dediğimizde, o arabayı ifade eden 99 numarası olduğu için bu veri nominaldir.\r\n",
    "        - **Ordinal**: Sıralama varsa. (1., 2. 3. gibi)"
   ],
   "metadata": {}
  },
  {
   "cell_type": "markdown",
   "source": [
    "## Train - Validation - Test\r\n",
    "\r\n",
    "? Veriyi neden sadece train-validation değil de train - validation - test olarak bölmek isteyebilirim?\r\n",
    "- Modelimi train ve validation üzerinden eğittiğim için test ile metriklerimi ölçmek için"
   ],
   "metadata": {}
  },
  {
   "cell_type": "markdown",
   "source": [
    "## AI Bias (Taraflılık - Yanlılık)\r\n",
    "\r\n",
    "Cinsiyet, ırkıçılık konusunda veri setinde yanlılık durumu bu konuya örnektir."
   ],
   "metadata": {}
  },
  {
   "cell_type": "markdown",
   "source": [
    "## Bias Nasıl Engellenmeye Çalışılabilir?\r\n",
    "\r\n",
    "Çeşitlilik : Veriyi toplama, analiz, tahmin gibi süreçlere farklı arka plandan insanlar dahil etmek"
   ],
   "metadata": {}
  },
  {
   "cell_type": "markdown",
   "source": [
    "## Başkasının Verisini Kullanmak\r\n",
    "\r\n",
    "Sorulması gereken sorular:\r\n",
    "\r\n",
    "1. Veriler toplanırken ki amaç ile benim bu veriye ihtiyaç amacımla ne kadar uygun?\r\n",
    "2. Veri toplama sürecine ne kadar güveniyorum? Elimde bulunan veriler ne kadar güvenilir?\r\n",
    "3. Veriyi toplayan kişiler biaslı olabilir mi?\r\n",
    "4. Verimin dökümantasyonu ne kadar iyi? Bu feature ne ifade ediyor? "
   ],
   "metadata": {}
  },
  {
   "cell_type": "markdown",
   "source": [
    "Resources:\r\n",
    "\r\n",
    "- Applied Data Science Course101 - Module1 - Çağlar Subaşı\r\n",
    "- [Nominal, Ordinal, Interval and Ratio Data](https://microbenotes.com/nominal-ordinal-interval-and-ratio-data/)"
   ],
   "metadata": {}
  }
 ],
 "metadata": {
  "orig_nbformat": 4,
  "language_info": {
   "name": "python"
  }
 },
 "nbformat": 4,
 "nbformat_minor": 2
}