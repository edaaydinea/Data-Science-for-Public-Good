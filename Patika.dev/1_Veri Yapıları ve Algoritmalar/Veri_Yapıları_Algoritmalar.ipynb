{
 "cells": [
  {
   "cell_type": "markdown",
   "source": [
    "# Veri Yapıları ve Algoritmalar\r\n",
    "\r\n",
    "Bu Notebook Kodluyoruz tarafından hazırlanan Data Science for Public Good programında izlenilen videolardan yazılmıştır.\r\n",
    "\r\n",
    "Yazar: Eda AYDIN "
   ],
   "metadata": {}
  },
  {
   "cell_type": "markdown",
   "source": [
    "## Temel Kavramlar\r\n"
   ],
   "metadata": {}
  },
  {
   "cell_type": "markdown",
   "source": [
    "### **Algoritma Nedir?**\r\n",
    "\r\n",
    "Bir problemi çözümü için tasarladığımız adımlar bütünü olarak düşünebiliriz. "
   ],
   "metadata": {}
  },
  {
   "cell_type": "markdown",
   "source": [
    "### **Bilgilerin Bilgisayarda İfadesi**\r\n",
    "\r\n",
    "Bilgisayarlar 1 ve 0 rakamlarını kullanarak bilgilerin ifade ederler. Bu bilgiler bilgisayarda transistörler yardımıyla tutulur. Elektriğin geçtiği noktalar 1, geçmediği noktaları 0 olarak düşünebiliriz. Bu 1 ve 0'ların kullanıldığı sisteme binary diyoruz."
   ],
   "metadata": {}
  },
  {
   "cell_type": "markdown",
   "source": [
    "### **Sayı Sistemleri**\r\n",
    "\r\n",
    "10'luk sayı sistemini kullanıyoruz."
   ],
   "metadata": {}
  },
  {
   "cell_type": "markdown",
   "source": [
    "### **Verilerin Tutulması**\r\n",
    "\r\n",
    "1 byte = 8 bit"
   ],
   "metadata": {}
  },
  {
   "cell_type": "markdown",
   "source": [
    "### **Recursion**"
   ],
   "metadata": {}
  },
  {
   "cell_type": "code",
   "execution_count": 1,
   "source": [
    "def factorial(x):\r\n",
    "    if x == 1:\r\n",
    "        return 1\r\n",
    "    \r\n",
    "    return x * factorial(x-1)"
   ],
   "outputs": [],
   "metadata": {}
  },
  {
   "cell_type": "code",
   "execution_count": 2,
   "source": [
    "factorial(3)"
   ],
   "outputs": [
    {
     "output_type": "execute_result",
     "data": {
      "text/plain": [
       "6"
      ]
     },
     "metadata": {},
     "execution_count": 2
    }
   ],
   "metadata": {}
  },
  {
   "cell_type": "markdown",
   "source": [
    "## Veri Yapıları"
   ],
   "metadata": {}
  },
  {
   "cell_type": "markdown",
   "source": [
    "### **Array**\r\n",
    "\r\n",
    "  \r\n",
    "\r\n",
    "Birden fazla bilgiyi yan yana bitler içerisinde tutmak için **array** kullanırız.\r\n",
    "\r\n",
    " \r\n",
    "**Neden veriler yan yana tutulur? Avantajı ve dezavantajı nedir?**\r\n",
    "\r\n",
    "- **Dezavantaj:** En başta oluşturduğumuz array'ın boyutunu sonradan değiştirmek istersek bu masraflı olur.\r\n",
    "\t\t? Peki ama boyutu kesin olarak değiştirelemez mi?\r\n",
    "\t\t+ Hayır. Bunun için Dynamic Array kullanılır.\r\n",
    "\r\n",
    "***\r\n",
    "\tDynamic Array: İlk başta array boyutunu 5 olarak belirlediğimizde,sonradan veri eklemesi yapılacaksa, bu durumda hali hazırda fazladan 5 array boyutu daha sistem içerisinde ayrılır.\r\n",
    "\t\t? Peki Dynamic Array optimal bir çözüm mü?\r\n",
    "\t\t+ Hayır. Gereksiz boyut ayrıldığı için optimal bir çözüm değildir. Bilgisayarında sisteminde gereksiz hafıza kullanılmış olur.\r\n",
    "\r\n",
    "\t\t\t? Ayrılan boyuttan daha fazla veri gelirse, bu durumda Dynamic Array nasıl davranır?\r\n",
    "\t\t\t+ İlk baştaki olaya geri dönerek, istenilen array'ın boyu kadar bilgisayarın hafızasında yer bulmak zorundadır. Ki bu durumda, Dynamic Array kendi özelliğini yerine getirmemiş olur.\r\n",
    "\r\n",
    "***\r\n",
    "- **Avantaj:** Hangi verinin nerede tutulduğu bilgisayarın hafızasında bellidir.Bir elemana erişmek istediğimizde anında erişim mümkündür."
   ],
   "metadata": {}
  },
  {
   "cell_type": "markdown",
   "source": [
    "### **Linked List**\r\n",
    "\r\n",
    "Verileri hafızada yan yana tutmak yerine, hafızada dağılmış bir şekilde tutabilirim. Hafızada dağınık bir şekilde olsa bile verilerin kendi içerisinde bütünlük sağlaması gerekir. Bu nedenle yeni gelen veri son gelen veriye hafızadaki lokasyonunu söyler. "
   ],
   "metadata": {}
  },
  {
   "cell_type": "markdown",
   "source": [
    "### **Linked List vs Array**\r\n",
    "\r\n",
    "| Array| Linked List |\r\n",
    "| ----------- | ----------- |\r\n",
    "| Array'in istediğimiz elemanına sabit sürede erişebiliyoruz.| Bir elemana erişme süresi sabit değildir. |\r\n",
    "| Sadece elemanı tuttuğumuz için daha az yer kaplıyor.       | Elemanların bir blok olarak tutulması gerekmiyor, hafızada blok olarak yer yoksa da kullanılabilir.|\r\n",
    "| Eleman silmek için silinen veriden sonraki tüm değerleri kaydırmamız gerektiği için maliyetlidir. | Eleman eklemek ve silmek arraylere göre daha kolay. |\r\n",
    "| Memory location için iyi.| |\r\n",
    "\r\n",
    "Sabit süre: Random access"
   ],
   "metadata": {}
  },
  {
   "cell_type": "markdown",
   "source": [
    "### **Stack**\r\n",
    "\r\n",
    "LIFO veri yapısıdır. (Last in First Out)\r\n",
    "Tek yönlü bir eleman ekleme çıkarma vardır. Aradan veya baştan bir eleman ekleme ve çıkarma  yoktur.\r\n",
    "\r\n",
    "- Push: Stack'e eleman eklemek (yığının sonuna eleman eklemek)\r\n",
    "- Pop: Stack'ten eleman almak (yığının sonundaki elemanı çıkarmak)"
   ],
   "metadata": {}
  },
  {
   "cell_type": "markdown",
   "source": [
    "### **Queue**\r\n",
    "\r\n"
   ],
   "metadata": {}
  },
  {
   "cell_type": "markdown",
   "source": [
    "FIFO (First in First Out)\r\n",
    "\r\n",
    "- Enqueue: Yeni elemanın queue'ya eklenmesi (yeni birinin sıraya girmesi)\r\n",
    "- Dequeue: Elemanın Queue'dan çıkarılması (sırası gelenin sıradan çıkması)"
   ],
   "metadata": {}
  },
  {
   "cell_type": "markdown",
   "source": [
    "### **Hash Table**"
   ],
   "metadata": {}
  },
  {
   "cell_type": "markdown",
   "source": [
    "- Hash table ürünlerin fiyatını ezbere bilen çalışan gibi\r\n",
    "\r\n",
    "- Ürünlerin isimlerini ve fiyatlarını array'in elemanları olarak tutup bu sorunu çözebilirdik ama ürünleri array'de tek tek aramak istemiyorum, anında aradığım ürünün fiyatını bulmak istiyorum.\r\n",
    "\r\n",
    "? Buna nasıl çözebiliriz?\r\n",
    "- İlk eleman sayısı ürün sayısına eşit bir array oluştacağız.\r\n",
    "- Ürünlerin isimlerini bir fonksiyon içerisine vererek sonucunda çıktılar alacağız.\r\n",
    "- Fonksiyon çıktılarını oluşturduğumuz array2in index'i olarak kullanıp, ürünlerin fiyatlarını bu indexlerde tutacağız.\r\n",
    "- Array'ler bize kaçıncı eleman olursa olsun sabit sürede istenen lokasyondaki elemanı verebiliyordu.\r\n",
    "- Bu sabit sürede erişmeyi lokasyon bazlı değil, tanım bazlı kullanmak istiyorum. Bana 3. elemanı getir değil, bana elmaya karşılık gelen elemanı / fiyatı getir demek istiyorum.\r\n",
    "- Biri bize bir ürünün fiyatını sorduğunda bu ürünü oluşturduğumuz fonksiyona besleyip arraydeki indexi neredeymiş onu bulacağız.\r\n",
    "- Bu fonsiyona **Hash function**, Hash function + Array yapısına da **Hash Table** deniyor."
   ],
   "metadata": {}
  },
  {
   "cell_type": "markdown",
   "source": [
    "### **Hash Function**"
   ],
   "metadata": {}
  },
  {
   "cell_type": "markdown",
   "source": [
    "1. Hash function her seferinde aynı girdiye aynı sonucu vermeli. \r\n",
    "2. Farklı girdilere farklı çıktılar versin istiyoruz.\r\n",
    "3. Hash Function'ın çıktıları sınırlarında (range) array'in boyutunda olmalı.\r\n",
    "\r\n",
    "Maalesef her seferinde aynı girdiye farklı sonuç veremiyor. Hash Function, bu duruma **Collision** deniyor."
   ],
   "metadata": {}
  },
  {
   "cell_type": "markdown",
   "source": [
    "### **Hash Collision**"
   ],
   "metadata": {}
  },
  {
   "cell_type": "markdown",
   "source": [
    "Collision'ı Linked List ile çözebiliriz. Collision meydana geldiğinde farklı girdilerde aynı çıktı elde ettiğimiz durumda aynı çıktılarda linked list ile genişleterek bu sorunu çözebilirim. Ancak bu yakalaşım Hash Table'ın anında elemana erişme özelliğini kaybetmiş oluruz. \r\n",
    "\r\n",
    "İyi bir bir Hash Table istiyorsam, iyi bir Hash Function sahip olmam gerekir. İyi bir Hash Function ise Collision meydana gelmezse olur. "
   ],
   "metadata": {}
  },
  {
   "cell_type": "markdown",
   "source": [
    "## Algoritma Analizi"
   ],
   "metadata": {}
  },
  {
   "cell_type": "markdown",
   "source": [
    "**Algoritma Analizi Giriş**\r\n"
   ],
   "metadata": {}
  },
  {
   "cell_type": "markdown",
   "source": [
    "- Bir problemi çözen birden çok algoritma olabilir. \r\n",
    "- Biz elimizdeki kaynaklara\r\n",
    "    - Programcının harcadığı süre\r\n",
    "    - Kullanılan Hafıza\r\n",
    "    - Programın çalışma zamanı\r\n",
    "göre bizim için en uygun olanı seçeceğiz.\r\n",
    "\r\n",
    "- Algoritma analizimiz analizi yaptığımız bilgisayarın özelliklerinden ve programlama dillerinden **bağımsız** olmalı ki **genellenebilir** olsun.\r\n",
    "\r\n",
    "\r\n",
    "**?Bu Analizi Nasıl Yapabilirim?**\r\n",
    "- Büyüme Hızı (Rate of Growth) : Programa verdğimz iinput (girdi) boyutu ile çalışma zamanını fonksiyonel olarak birbirine bağlarsak bilgisayarlara ve programlama dillerine bağlı olmayan bir yapı oluşturmuş oluruz.\r\n",
    "\r\n",
    "**?Bu Analize Neler Etki Etmez?**\r\n",
    "\r\n",
    "- Çalışma Süresi (Execution Time): Programlama dilinden ve kullanılan bilgisayarın özelliklerinden etkileniyor, o yüzden genellenebilir değil.\r\n",
    "- ifade Sayısı: Programda kaç tane ifadesinin çalıştığı. Programlama diline göre aynı işlem için çalışan ifade sayısı değişebilir, genellenebilir değil."
   ],
   "metadata": {}
  },
  {
   "cell_type": "markdown",
   "source": [
    "**RAM Modeli**"
   ],
   "metadata": {}
  },
  {
   "cell_type": "markdown",
   "source": [
    "- Genellenebilir bir anlaiz yapmak iiçn, her algoritmayı aynı bilgisayar ile test ediyor gibi yapacağız.\r\n",
    "- Bu hayali makineye RAM(Random Access Machine) diyeceğiz. (Burada bahsettiğimiz bizim bilgisayarlarımızdaki RAM değil.)\r\n",
    "\r\n",
    "**RAM'in Özellikleri**\r\n",
    "- Her basit işleö (+, -, and, or gibi) 1 birim zaman alır.\r\n",
    "- Döngüler 1 birim zaman değil, içerisinde kaç defa işlem oluyorsa **iterasyon sayısı * işlem sayısı** kadar birim zaman alır.\r\n",
    "- Hafızadan her okuma işlemi 1 birim zaman alır."
   ],
   "metadata": {}
  },
  {
   "cell_type": "markdown",
   "source": [
    "**Time Complexity**"
   ],
   "metadata": {}
  },
  {
   "cell_type": "markdown",
   "source": [
    "- Problem aynı olsa da farklı inputlar için algoritmamız farklı performans senaryoları üretebilir.\r\n",
    "    - Sözlükte bir kelimeyi aramak için baştan başlamak\r\n",
    "    - Sözlükte bir kelimeyi aramak için kelimenin baş harfinin bulunduğu bölümden başlamak\r\n",
    "- Bu yüzden analizimizi 3 ana başlık altında yapacağız.\r\n",
    "    1. **Worst Case**: Vereceğimiz inputun algoritmamızı en yavaş (en fazla işlem yapacak) şeklinde çalıştırdığı durum. Aradığımız kelimenin \"z\" ile başlaması gibi.\r\n",
    "        - Her algoritmaya göre worst case farklı sözlüğe baştan değil sondan bakmaya başlasaydım \"z\" ile başlaması worst case olmazdı.\r\n",
    "    2. **Average Case**: Genel olarak beklediğim durum\r\n",
    "    3. **Best Case**: Vereceğimiz inputun algoritmamızı en hızlı şekilde çalıştırdığı durum"
   ],
   "metadata": {}
  },
  {
   "cell_type": "markdown",
   "source": [
    "**Big O Notation**"
   ],
   "metadata": {}
  },
  {
   "cell_type": "markdown",
   "source": [
    "Big O notation algoritmanın ne kadar sürede çalıaşcağını söylemeyecek. Bize algoritmamızın çalışma zamanının inputun boyutu ile nasıl değişeceğini söyleyecek.\r\n",
    "-  Sözlükte bir kelimeyi aramak için baştan başlamak : **O(n)**\r\n",
    "- Sözlükte bir kelimeyi aramak için kelimenin baş harfinin bulunduğu bölümden başlamak: **O(logn)**\r\n",
    "\r\n",
    "Big O Notation bakarken katsayılar önemli değildir.\r\n",
    "\r\n",
    "Dominant faktör: 2n^2 + 3n + 2 şeklinde analimiz çıktığından, Big O Notation olarak O(n^2) alınır.\r\n"
   ],
   "metadata": {}
  },
  {
   "cell_type": "markdown",
   "source": [
    "## Sorting (Sıralama) Algoritmaları"
   ],
   "metadata": {}
  },
  {
   "cell_type": "markdown",
   "source": [
    "**Sorting Nedir?**"
   ],
   "metadata": {}
  },
  {
   "cell_type": "markdown",
   "source": [
    "- Searching: Elemanları en başta sıralamak, eleman aramayı hızlandırabilir.\r\n",
    "- Closest Pair: En yakın noktayı bulmak\r\n",
    "- Aynı Eleman Kontrolü\r\n",
    "- Mod Bulma"
   ],
   "metadata": {}
  },
  {
   "cell_type": "markdown",
   "source": [
    "**Insertion Sort**"
   ],
   "metadata": {}
  },
  {
   "cell_type": "code",
   "execution_count": 2,
   "source": [
    "def insertionSort(array):\r\n",
    "    for i in range(1, len(array)):\r\n",
    "        key = array[i]\r\n",
    "\r\n",
    "        j = i-1\r\n",
    "        while j >= 0 and key < array[j]:\r\n",
    "            array[j+1] = array[j]\r\n",
    "            j -= 1\r\n",
    "        array[j+1] = key\r\n",
    "\r\n",
    "        print(array)\r\n",
    "\r\n",
    "array = [65, 27, 13, 23, 10]\r\n",
    "print(array)\r\n",
    "insertionSort(array)"
   ],
   "outputs": [
    {
     "output_type": "stream",
     "name": "stdout",
     "text": [
      "[65, 27, 13, 23, 10]\n",
      "[27, 65, 13, 23, 10]\n",
      "[13, 27, 65, 23, 10]\n",
      "[13, 23, 27, 65, 10]\n",
      "[10, 13, 23, 27, 65]\n"
     ]
    }
   ],
   "metadata": {}
  },
  {
   "cell_type": "markdown",
   "source": [
    "**Merge Sort**"
   ],
   "metadata": {}
  },
  {
   "cell_type": "code",
   "execution_count": 10,
   "source": [
    "# Merges two subarrays of arr[].\r\n",
    "# First subarray is arr[l..m]\r\n",
    "# Second subarray is arr[m+1..r]\r\n",
    "\r\n",
    "def merge(arr, l, m, r):\r\n",
    "    n1 = m - l + 1\r\n",
    "    n2 = r - m\r\n",
    " \r\n",
    "    # create temp arrays\r\n",
    "    L = [0] * (n1)\r\n",
    "    R = [0] * (n2)\r\n",
    " \r\n",
    "    # Copy data to temp arrays L[] and R[]\r\n",
    "    for i in range(0, n1):\r\n",
    "        L[i] = arr[l + i]\r\n",
    " \r\n",
    "    for j in range(0, n2):\r\n",
    "        R[j] = arr[m + 1 + j]\r\n",
    " \r\n",
    "    # Merge the temp arrays back into arr[l..r]\r\n",
    "    i = 0     # Initial index of first subarray\r\n",
    "    j = 0     # Initial index of second subarray\r\n",
    "    k = l     # Initial index of merged subarray\r\n",
    " \r\n",
    "    while i < n1 and j < n2:\r\n",
    "        if L[i] <= R[j]:\r\n",
    "            arr[k] = L[i]\r\n",
    "            i += 1\r\n",
    "        else:\r\n",
    "            arr[k] = R[j]\r\n",
    "            j += 1\r\n",
    "        k += 1\r\n",
    " \r\n",
    "    # Copy the remaining elements of L[], if there\r\n",
    "    # are any\r\n",
    "    while i < n1:\r\n",
    "        arr[k] = L[i]\r\n",
    "        i += 1\r\n",
    "        k += 1\r\n",
    " \r\n",
    "    # Copy the remaining elements of R[], if there\r\n",
    "    # are any\r\n",
    "    while j < n2:\r\n",
    "        arr[k] = R[j]\r\n",
    "        j += 1\r\n",
    "        k += 1\r\n",
    "    \r\n",
    "    print(arr)\r\n",
    " \r\n",
    "# l is for left index and r is right index of the\r\n",
    "# sub-array of arr to be sorted\r\n",
    " \r\n",
    " \r\n",
    "def mergeSort(arr, l, r):\r\n",
    "    if l < r:\r\n",
    " \r\n",
    "        # Same as (l+r)//2, but avoids overflow for\r\n",
    "        # large l and h\r\n",
    "        m = l+(r-l)//2\r\n",
    " \r\n",
    "        # Sort first and second halves\r\n",
    "        mergeSort(arr, l, m)\r\n",
    "        mergeSort(arr, m+1, r)\r\n",
    "        merge(arr, l, m, r)\r\n",
    " \r\n",
    " \r\n",
    "# Driver code to test above\r\n",
    "arr = [65, 27, 13, 23, 87, 10]\r\n",
    "n = len(arr)\r\n",
    "print(arr) \r\n",
    "mergeSort(arr, 0, n-1)\r\n"
   ],
   "outputs": [
    {
     "output_type": "stream",
     "name": "stdout",
     "text": [
      "[65, 27, 13, 23, 87, 10]\n",
      "[27, 65, 13, 23, 87, 10]\n",
      "[13, 27, 65, 23, 87, 10]\n",
      "[13, 27, 65, 23, 87, 10]\n",
      "[13, 27, 65, 10, 23, 87]\n",
      "[10, 13, 23, 27, 65, 87]\n"
     ]
    }
   ],
   "metadata": {}
  },
  {
   "cell_type": "markdown",
   "source": [
    "**Quick Sort**"
   ],
   "metadata": {}
  },
  {
   "cell_type": "code",
   "execution_count": 17,
   "source": [
    "def partition(array, begin, end):\r\n",
    "    pivot = begin\r\n",
    "    for i in range(begin+1, end+1):\r\n",
    "        if array[i] <= array[begin]:\r\n",
    "            pivot += 1\r\n",
    "            array[i], array[pivot] = array[pivot], array[i]\r\n",
    "    print(array)\r\n",
    "    array[pivot], array[begin] = array[begin], array[pivot]\r\n",
    "    return pivot\r\n",
    "\r\n",
    "\r\n",
    "\r\n",
    "def quicksort(array, begin=0, end=None):\r\n",
    "    if end is None:\r\n",
    "        end = len(array) - 1\r\n",
    "    def _quicksort(array, begin, end):\r\n",
    "        if begin >= end:\r\n",
    "            return\r\n",
    "        pivot = partition(array, begin, end)\r\n",
    "        _quicksort(array, begin, pivot-1)\r\n",
    "        _quicksort(array, pivot+1, end)\r\n",
    "    return _quicksort(array, begin, end)"
   ],
   "outputs": [],
   "metadata": {}
  },
  {
   "cell_type": "code",
   "execution_count": 18,
   "source": [
    "array = [97, 200, 100, 101, 211, 107]\r\n",
    "quicksort(array)\r\n",
    "print(array)\r\n",
    "# array -> [97, 100, 101, 107, 200, 211]"
   ],
   "outputs": [
    {
     "output_type": "stream",
     "name": "stdout",
     "text": [
      "[97, 200, 100, 101, 211, 107]\n",
      "[97, 200, 100, 101, 107, 211]\n",
      "[97, 107, 100, 101, 200, 211]\n",
      "[97, 101, 100, 107, 200, 211]\n",
      "[97, 100, 101, 107, 200, 211]\n"
     ]
    }
   ],
   "metadata": {}
  },
  {
   "cell_type": "markdown",
   "source": [
    "## Searching (Arama) Algoritmaları"
   ],
   "metadata": {}
  },
  {
   "cell_type": "markdown",
   "source": [
    "**Linear Search**\r\n",
    "\r\n",
    "Time Complexity is O(n)."
   ],
   "metadata": {}
  },
  {
   "cell_type": "code",
   "execution_count": 19,
   "source": [
    "def search(array, x):\r\n",
    "    for i in range(len(array)):\r\n",
    "        if array[i] == x:\r\n",
    "            return i\r\n",
    "    return -1\r\n",
    "\r\n",
    "array = [97, 200, 100, 101, 211, 107]\r\n",
    "x = 107\r\n",
    "search(array,x)"
   ],
   "outputs": [
    {
     "output_type": "execute_result",
     "data": {
      "text/plain": [
       "5"
      ]
     },
     "metadata": {},
     "execution_count": 19
    }
   ],
   "metadata": {}
  },
  {
   "cell_type": "markdown",
   "source": [
    "**Binary Search**\r\n",
    "- Binary Search Linear Search'ten daha hızlıdır. :)\r\n",
    "- Time complexity: O(logn)"
   ],
   "metadata": {}
  },
  {
   "cell_type": "code",
   "execution_count": 23,
   "source": [
    "# Iterative Binary Search Function method Python Implementation  \r\n",
    "# It returns index of n in given list1 if present,   \r\n",
    "# else returns -1   \r\n",
    "def binary_search(list1, n):  \r\n",
    "    low = 0  \r\n",
    "    high = len(list1) - 1  \r\n",
    "    mid = 0  \r\n",
    "  \r\n",
    "    while low <= high:  \r\n",
    "        # for get integer result   \r\n",
    "        mid = (high + low) // 2  \r\n",
    "  \r\n",
    "        # Check if n is present at mid   \r\n",
    "        if list1[mid] < n:  \r\n",
    "            low = mid + 1  \r\n",
    "  \r\n",
    "        # If n is greater, compare to the right of mid   \r\n",
    "        elif list1[mid] > n:  \r\n",
    "            high = mid - 1  \r\n",
    "  \r\n",
    "        # If n is smaller, compared to the left of mid  \r\n",
    "        else:  \r\n",
    "            return mid  \r\n",
    "  \r\n",
    "            # element was not present in the list, return -1  \r\n",
    "    return -1  \r\n",
    "  \r\n",
    "  \r\n",
    "# Initial list1  \r\n",
    "list1 = [12, 24, 32, 39, 45, 50, 54]  \r\n",
    "n = 45  \r\n",
    "print(list1)\r\n",
    "print(\"Search value: {}\".format(n))\r\n",
    "  \r\n",
    "# Function call   \r\n",
    "result = binary_search(list1, n)  \r\n",
    "  \r\n",
    "if result != -1:  \r\n",
    "    print(\"Element is present at index\", str(result))  \r\n",
    "else:  \r\n",
    "    print(\"Element is not present in list1\")  "
   ],
   "outputs": [
    {
     "output_type": "stream",
     "name": "stdout",
     "text": [
      "[12, 24, 32, 39, 45, 50, 54]\n",
      "Search value: 45\n",
      "Element is present at index 4\n"
     ]
    }
   ],
   "metadata": {}
  },
  {
   "cell_type": "markdown",
   "source": [
    "**Binary Search Tree**\r\n",
    "\r\n",
    "- Average case: O(logn)\r\n",
    "- Worst case: O(n)\r\n",
    "- Insertion O(logn)\r\n",
    "- Random Access yapmıyor"
   ],
   "metadata": {}
  }
 ],
 "metadata": {
  "orig_nbformat": 4,
  "language_info": {
   "name": "python",
   "version": "3.9.1",
   "mimetype": "text/x-python",
   "codemirror_mode": {
    "name": "ipython",
    "version": 3
   },
   "pygments_lexer": "ipython3",
   "nbconvert_exporter": "python",
   "file_extension": ".py"
  },
  "kernelspec": {
   "name": "python3",
   "display_name": "Python 3.9.1 64-bit"
  },
  "interpreter": {
   "hash": "6ccf9007e71d991820f50469ae2e96bd73b6ae707713498a2d433b7c0be96085"
  }
 },
 "nbformat": 4,
 "nbformat_minor": 2
}